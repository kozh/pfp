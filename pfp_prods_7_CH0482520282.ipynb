{
 "cells": [
  {
   "cell_type": "markdown",
   "metadata": {},
   "source": [
    "## CH0482520282 geared call"
   ]
  },
  {
   "cell_type": "code",
   "execution_count": 1,
   "metadata": {
    "collapsed": false
   },
   "outputs": [],
   "source": [
    "# базовые активы\n",
    "BAs = ['AV/ LN Equity',\n",
    "       'FDX UN Equity',\n",
    "       'NVDA UW Equity',\n",
    "       'RR/ LN Equity']\n",
    "\n",
    "isin = 'CH0482520282'\n",
    "notional_curr = 'GBP'\n",
    "rfr = 0.006\n",
    "\n",
    "term = 3           # срок жизни ноты в годах\n",
    "check_months = 3   # раз в сколько месяцев платится купон и проверяется autocall\n",
    "\n",
    "coupon_value = 0.01788\n",
    "coupon_always = 1\n",
    "coupon_memory = 0\n",
    "coupon_lower_barrier = 0.65\n",
    "coupon_upper_barrier = 10^6\n",
    "\n",
    "autocall_flag = 1\n",
    "autocall_barrier = 1.0\n",
    "autocall_barrier_increase_rate = -0.03\n",
    "\n",
    "put_strike = 0.55\n",
    "redemption_amount = 1\n",
    "guarantee_rule = 1\n",
    "# 1: worst < put_strike => worst; worst > put_strike => redemption_amount\n",
    "# 2: min(1, max(0, worst/strike))"
   ]
  },
  {
   "cell_type": "code",
   "execution_count": 2,
   "metadata": {
    "collapsed": false
   },
   "outputs": [],
   "source": [
    "from pfp_products import *\n",
    "from pfp_optimization import *\n",
    "from pfp_stat import *\n",
    "\n",
    "import numpy as np\n",
    "import pandas as pd \n",
    "\n",
    "import pandas_datareader.data as web\n",
    "import matplotlib.pyplot as plt\n",
    "import datetime as dat\n",
    "\n",
    "# set constants & assumbtions\n",
    "n_scenarios = 50000\n",
    "simulation_years = 10       # срок моделирования инструментов - 10 лет\n",
    "points_in_year = 12         # модельных точек в году\n",
    "\n",
    "n_timepoints = points_in_year*simulation_years\n",
    "dT = 1/points_in_year"
   ]
  },
  {
   "cell_type": "code",
   "execution_count": 10,
   "metadata": {
    "collapsed": false
   },
   "outputs": [],
   "source": [
    "# сгенерим сценарии\n",
    "returns = ba_scenarios(BAs, \n",
    "                       simulation_years, \n",
    "                       points_in_year, \n",
    "                       n_scenarios, \n",
    "                       print_statistics = False, \n",
    "                       rfr = 0.006)\n",
    "\n",
    "n_points = int(term*points_in_year/check_months)\n",
    "time_steps = np.arange(check_months - 1, term*points_in_year, check_months)\n",
    "\n",
    "# autocall triggers\n",
    "c1 = autocall_barrier + autocall_barrier_increase_rate*np.array(range(0,n_points))\n",
    "call_trigger = np.reshape(np.repeat(c1, n_scenarios*len(BAs)), (n_points, n_scenarios, len(BAs)))  \n",
    "\n",
    "positions = []\n",
    "for a in BAs:\n",
    "    positions.append(BAs.index(a))\n",
    "\n",
    "rtrns = (returns[:,:,positions])[time_steps,:,:]\n",
    "\n",
    "discount_base = np.exp(-rfr*(time_steps + 1)/12)\n",
    "discount = np.reshape(np.repeat(discount_base, n_scenarios), (n_points, n_scenarios)) "
   ]
  },
  {
   "cell_type": "code",
   "execution_count": 11,
   "metadata": {
    "collapsed": false
   },
   "outputs": [
    {
     "data": {
      "image/png": "[encoded data removed]",
      "text/plain": [
       "<matplotlib.figure.Figure at 0x1108c8898>"
      ]
     },
     "metadata": {},
     "output_type": "display_data"
    }
   ],
   "source": [
    "plt.figure(figsize=(16,8))\n",
    "plt.title('Worst returns')\n",
    "bins = np.linspace(0,6,200)\n",
    "plt.hist(returns[12,:,:].min(axis = 1), bins, alpha=1, color = 'salmon')\n",
    "plt.show()"
   ]
  },
  {
   "cell_type": "code",
   "execution_count": 12,
   "metadata": {
    "collapsed": false
   },
   "outputs": [],
   "source": [
    "# автоколл\n",
    "call_flag = (rtrns > call_trigger).all(axis = 2)\n",
    "a0 = call_flag\n",
    "a1 = a0.cumsum(axis = 0)\n",
    "a2 = (a1 > 0)*1 \n",
    "a3 = np.roll(a2, 1, axis = 0)\n",
    "a3[0,:] = 0\n",
    "call_flag[-1,:] = 0\n",
    "active_flag = 1 - a3\n",
    "if autocall_flag == 0: \n",
    "    active_flag = np.ones(active_flag)\n",
    "    \n",
    "autocalled = active_flag*call_flag"
   ]
  },
  {
   "cell_type": "code",
   "execution_count": 13,
   "metadata": {
    "collapsed": false
   },
   "outputs": [],
   "source": [
    "# купоны\n",
    "\n",
    "if coupon_always == 1:\n",
    "    coupons = np.ones(active_flag.shape)*coupon_value\n",
    "\n",
    "else:\n",
    "    # считаем количество пробитий вверх на контрольные даты\n",
    "    a1 = ((rtrns > coupon_lower_barrier)*(rtrns < coupon_upper_barrier)).sum(axis = 2) \n",
    "\n",
    "    # флаг купона\n",
    "    a2 = (a1 == len(BAs))*coupon_value\n",
    "    coupons = a2\n",
    "    \n",
    "    if coupon_memory == 1:         \n",
    "        # купонов с учетом эффекта памяти\n",
    "        a3 = pd.DataFrame(np.zeros(a2.shape))\n",
    "        for i in range(0,a3.shape[0]):\n",
    "            a3.ix[i] = ((i+1) - a3.ix[:i].sum(axis = 0))*pd.DataFrame(a2).ix[i]\n",
    "        coupons = a3*coupon_value\n",
    "        \n",
    "coupons = coupons*active_flag"
   ]
  },
  {
   "cell_type": "code",
   "execution_count": 14,
   "metadata": {
    "collapsed": false
   },
   "outputs": [],
   "source": [
    "# на последний день\n",
    "guarantee_payoff = np.zeros((n_points, n_scenarios))\n",
    "guarantee_payoff[-1,:] = redemption_amount\n",
    "\n",
    "if guarantee_rule == 2:\n",
    "    wrst = rtrns.min(axis = 2)\n",
    "    worst_last = wrst[-1,:]\n",
    "    guarantee_payoff[-1,:] = ((worst_last < put_strike)*worst_last/put_strike + (worst_last >= put_strike))\n",
    "\n",
    "guarantee_payoff = guarantee_payoff*active_flag"
   ]
  },
  {
   "cell_type": "code",
   "execution_count": 15,
   "metadata": {
    "collapsed": false
   },
   "outputs": [
    {
     "name": "stdout",
     "output_type": "stream",
     "text": [
      "1.0988470691497016\n"
     ]
    }
   ],
   "source": [
    "# всего\n",
    "total_payoff = coupons + autocalled + guarantee_payoff\n",
    "npv = (total_payoff*discount).sum(axis = 0)\n",
    "print(npv.mean())"
   ]
  },
  {
   "cell_type": "code",
   "execution_count": 16,
   "metadata": {
    "collapsed": false
   },
   "outputs": [
    {
     "data": {
      "image/png": "[encoded data removed]",
      "text/plain": [
       "<matplotlib.figure.Figure at 0x1106df048>"
      ]
     },
     "metadata": {},
     "output_type": "display_data"
    }
   ],
   "source": [
    "plt.figure(figsize=(16,8))\n",
    "plt.title('NPV distribution')\n",
    "bins = np.linspace(0,1.5,100)\n",
    "plt.hist(npv, bins, alpha=1, color = 'salmon')\n",
    "plt.show()"
   ]
  }
 ],
 "metadata": {
  "kernelspec": {
   "display_name": "Python 3",
   "language": "python",
   "name": "python3"
  },
  "language_info": {
   "codemirror_mode": {
    "name": "ipython",
    "version": 3
   },
   "file_extension": ".py",
   "mimetype": "text/x-python",
   "name": "python",
   "nbconvert_exporter": "python",
   "pygments_lexer": "ipython3",
   "version": "3.6.7"
  }
 },
 "nbformat": 4,
 "nbformat_minor": 2
}
